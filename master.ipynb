{
 "cells": [
  {
   "cell_type": "code",
   "execution_count": 47,
   "metadata": {},
   "outputs": [],
   "source": [
    "# Import necessary libraries\n",
    "import pandas as pd\n",
    "import numpy as np\n",
    "import matplotlib.pylab as plt\n",
    "import seaborn as sns\n",
    "import pickle\n",
    "from sklearn.model_selection import train_test_split, KFold, cross_val_score\n",
    "from sklearn.pipeline import Pipeline\n",
    "from sklearn.preprocessing import StandardScaler\n",
    "from sklearn.linear_model import LogisticRegression, LinearRegression\n",
    "from sklearn.tree import DecisionTreeClassifier, DecisionTreeRegressor\n",
    "from sklearn.ensemble import RandomForestClassifier, RandomForestRegressor, GradientBoostingClassifier, GradientBoostingRegressor\n",
    "from sklearn.metrics import accuracy_score, precision_score, recall_score, f1_score, r2_score, mean_absolute_error, mean_squared_error\n",
    "import joblib\n"
   ]
  },
  {
   "cell_type": "code",
   "execution_count": null,
   "metadata": {},
   "outputs": [],
   "source": [
    "# Load the dataset (replace 'Data.csv' with your file path)\n",
    "file_path = \"material.csv\"\n",
    "data = pd.read_csv(file_path)\n",
    "\n",
    "# Display the first few rows of the dataset\n",
    "print(\"Dataset Loaded Successfully!\")\n",
    "data.head()\n",
    "\n",
    "# Select relevant columns\n",
    "selected_columns = [ 'Su', 'Sy', 'E', 'G', 'mu', 'Ro', 'Use']\n",
    "df = data[selected_columns]\n",
    "\n",
    "# Rename columns for better readability\n",
    "df.columns = [ 'Ultimate_Tensile_Strength', 'Yield_Strength', \n",
    "              'Elastic_Modulus', 'Shear_Modulus', \n",
    "              'Poissons_Ratio', 'Density', 'Use']\n",
    "\n",
    "# Display summary of selected data\n",
    "print(f\"Selected {len(selected_columns)} columns.\")\n",
    "df.head()\n",
    "\n",
    "# Check for missing values\n",
    "missing_values = df.isnull().sum()\n",
    "print(\"Missing Values per Column:\")\n",
    "print(missing_values)\n",
    "\n",
    "# Drop rows with missing values (or use imputation if necessary)\n",
    "df_cleaned = df.dropna()\n",
    "\n",
    "print(f\"Rows before cleaning: {len(df)}\")\n",
    "print(f\"Rows after cleaning: {len(df_cleaned)}\")\n",
    "\n",
    "from sklearn.preprocessing import LabelEncoder, StandardScaler\n",
    "\n",
    "# Encode target variable ('Use') into binary format (Yes=1, No=0)\n",
    "label_encoder = LabelEncoder()\n",
    "df_cleaned['Use'] = label_encoder.fit_transform(df_cleaned['Use'])\n",
    "\n",
    "df_cleaned\n",
    "\n",
    "data = df_cleaned"
   ]
  },
  {
   "cell_type": "code",
   "execution_count": 46,
   "metadata": {},
   "outputs": [
    {
     "name": "stdout",
     "output_type": "stream",
     "text": [
      "\n",
      "--- Task 1: Material Suitability Classification ---\n",
      "Gradient Boosting Classifier Metrics:\n",
      "Accuracy: 0.9979\n",
      "Precision: 1.0000\n",
      "Recall: 0.9667\n",
      "F1-Score: 0.9831\n",
      "Model saved as suitability_model.pkl\n"
     ]
    }
   ],
   "source": [
    "\n",
    "### Task 1: Material Suitability Classification ###\n",
    "print(\"\\n--- Task 1: Material Suitability Classification ---\")\n",
    "features_suitability = ['Ultimate_Tensile_Strength', 'Yield_Strength', 'Elastic_Modulus',\n",
    "                        'Shear_Modulus', 'Poissons_Ratio', 'Density']\n",
    "target_suitability = 'Use'\n",
    "\n",
    "X_suitability = data[features_suitability]\n",
    "y_suitability = data[target_suitability].apply(lambda x: 1 if x else 0)\n",
    "\n",
    "# Split into train and test sets\n",
    "X_train_suitability, X_test_suitability, y_train_suitability, y_test_suitability = train_test_split(\n",
    "    X_suitability, y_suitability, test_size=0.3, random_state=42)\n",
    "\n",
    "# Initialize and train Gradient Boosting Classifier\n",
    "best_classification_model = GradientBoostingClassifier(random_state=42)\n",
    "best_classification_model.fit(X_train_suitability, y_train_suitability)\n",
    "\n",
    "# Make predictions\n",
    "y_pred = best_classification_model.predict(X_test_suitability)\n",
    "\n",
    "# Calculate evaluation metrics\n",
    "accuracy = accuracy_score(y_test_suitability, y_pred)\n",
    "precision = precision_score(y_test_suitability, y_pred)\n",
    "recall = recall_score(y_test_suitability, y_pred)\n",
    "f1 = f1_score(y_test_suitability, y_pred)\n",
    "\n",
    "# Print metrics\n",
    "print(\"Gradient Boosting Classifier Metrics:\")\n",
    "print(f\"Accuracy: {accuracy:.4f}\")\n",
    "print(f\"Precision: {precision:.4f}\")\n",
    "print(f\"Recall: {recall:.4f}\")\n",
    "print(f\"F1-Score: {f1:.4f}\")\n",
    "\n",
    "# Save the trained model\n",
    "with open(\"suitability_model.pkl\", \"wb\") as model_file:\n",
    "    pickle.dump(best_classification_model, model_file)\n",
    "\n",
    "print(\"Model saved as suitability_model.pkl\")\n"
   ]
  },
  {
   "cell_type": "code",
   "execution_count": 48,
   "metadata": {},
   "outputs": [
    {
     "name": "stdout",
     "output_type": "stream",
     "text": [
      "\n",
      "--- Task 2: Ultimate Tensile Strength Prediction ---\n",
      "Regression Metrics for Ultimate Tensile Strength:\n",
      "Gradient Boosting Regressor: R² Score = 0.9655574959253143, MAE = 46.01712944199703, RMSE = 61.45724103154477\n"
     ]
    },
    {
     "data": {
      "text/plain": [
       "['tensile_strength_model.pkl']"
      ]
     },
     "execution_count": 48,
     "metadata": {},
     "output_type": "execute_result"
    }
   ],
   "source": [
    "### Task 2: Ultimate Tensile Strength Prediction ###\n",
    "print(\"\\n--- Task 2: Ultimate Tensile Strength Prediction ---\")\n",
    "features_strength = ['Yield_Strength', 'Elastic_Modulus', 'Shear_Modulus',\n",
    "                     'Poissons_Ratio', 'Density']\n",
    "target_strength = 'Ultimate_Tensile_Strength'\n",
    "\n",
    "X_strength = data[features_strength]\n",
    "y_strength = data[target_strength]\n",
    "\n",
    "X_train_strength, X_test_strength, y_train_strength, y_test_strength = train_test_split(\n",
    "    X_strength, y_strength, test_size=0.3, random_state=42)\n",
    "\n",
    "# Train Gradient Boosting Regressor model\n",
    "best_regression_model = GradientBoostingRegressor(random_state=42)\n",
    "best_regression_model.fit(X_train_strength, y_train_strength)\n",
    "\n",
    "# Evaluate the model\n",
    "y_pred = best_regression_model.predict(X_test_strength)\n",
    "r2 = r2_score(y_test_strength, y_pred)\n",
    "mae = mean_absolute_error(y_test_strength, y_pred)\n",
    "rmse = np.sqrt(mean_squared_error(y_test_strength, y_pred))\n",
    "\n",
    "# Print metrics\n",
    "print(\"Regression Metrics for Ultimate Tensile Strength:\")\n",
    "print(f\"Gradient Boosting Regressor: R² Score = {r2}, MAE = {mae}, RMSE = {rmse}\")\n",
    "\n",
    "# Save the trained model\n",
    "joblib.dump(best_regression_model, \"tensile_strength_model.pkl\")\n"
   ]
  },
  {
   "cell_type": "code",
   "execution_count": 50,
   "metadata": {},
   "outputs": [
    {
     "name": "stdout",
     "output_type": "stream",
     "text": [
      "\n",
      "--- Task 3: Shear Modulus Prediction ---\n",
      "R² Score: 0.8045\n",
      "Mean Absolute Error (MAE): 3028.4583\n",
      "Root Mean Squared Error (RMSE): 45328.9870\n",
      "Model saved as 'shear_modulus_model.pkl'.\n"
     ]
    }
   ],
   "source": [
    "### Task 3: Shear Modulus Prediction ###\n",
    "print(\"\\n--- Task 3: Shear Modulus Prediction ---\")\n",
    "# Feature selection\n",
    "features_modulus = ['Ultimate_Tensile_Strength', 'Yield_Strength', 'Elastic_Modulus',\n",
    "                    'Poissons_Ratio', 'Density']\n",
    "target_modulus = 'Shear_Modulus'\n",
    "\n",
    "X_modulus = data[features_modulus]\n",
    "y_modulus = data[target_modulus]\n",
    "\n",
    "# Split the data\n",
    "X_train_modulus, X_test_modulus, y_train_modulus, y_test_modulus = train_test_split(\n",
    "    X_modulus, y_modulus, test_size=0.3, random_state=42\n",
    ")\n",
    "\n",
    "# Train Gradient Boosting Regressor\n",
    "gbr_modulus = GradientBoostingRegressor(random_state=42)\n",
    "gbr_modulus.fit(X_train_modulus, y_train_modulus)\n",
    "\n",
    "# Predictions\n",
    "y_pred_modulus = gbr_modulus.predict(X_test_modulus)\n",
    "\n",
    "# Metrics\n",
    "r2 = r2_score(y_test_modulus, y_pred_modulus)\n",
    "mae = mean_absolute_error(y_test_modulus, y_pred_modulus)\n",
    "rmse = np.sqrt(mean_squared_error(y_test_modulus, y_pred_modulus))\n",
    "\n",
    "print(f\"R² Score: {r2:.4f}\")\n",
    "print(f\"Mean Absolute Error (MAE): {mae:.4f}\")\n",
    "print(f\"Root Mean Squared Error (RMSE): {rmse:.4f}\")\n",
    "\n",
    "# Save the model\n",
    "with open(\"shear_modulus_model.pkl\", \"wb\") as model_file:\n",
    "    pickle.dump(gbr_modulus, model_file)\n",
    "\n",
    "print(\"Model saved as 'shear_modulus_model.pkl'.\")\n"
   ]
  },
  {
   "cell_type": "code",
   "execution_count": 51,
   "metadata": {},
   "outputs": [
    {
     "name": "stdout",
     "output_type": "stream",
     "text": [
      "\n",
      "--- Task 4: Density Prediction ---\n",
      "R² Score: 0.9944\n",
      "Mean Absolute Error (MAE): 61.4221\n",
      "Root Mean Squared Error (RMSE): 165.4364\n",
      "Model saved as 'density_model.pkl'.\n"
     ]
    }
   ],
   "source": [
    "### Task 4: Density Prediction ###\n",
    "print(\"\\n--- Task 4: Density Prediction ---\")\n",
    "# Feature selection\n",
    "features_density = ['Ultimate_Tensile_Strength', 'Yield_Strength', 'Elastic_Modulus',\n",
    "                    'Shear_Modulus', 'Poissons_Ratio']\n",
    "target_density = 'Density'\n",
    "\n",
    "X_density = data[features_density]\n",
    "y_density = data[target_density]\n",
    "\n",
    "# Split the data\n",
    "X_train_density, X_test_density, y_train_density, y_test_density = train_test_split(\n",
    "    X_density, y_density, test_size=0.3, random_state=42\n",
    ")\n",
    "\n",
    "# Train Gradient Boosting Regressor\n",
    "gbr_density = GradientBoostingRegressor(random_state=42)\n",
    "gbr_density.fit(X_train_density, y_train_density)\n",
    "\n",
    "# Predictions\n",
    "y_pred_density = gbr_density.predict(X_test_density)\n",
    "\n",
    "# Metrics\n",
    "r2 = r2_score(y_test_density, y_pred_density)\n",
    "mae = mean_absolute_error(y_test_density, y_pred_density)\n",
    "rmse = np.sqrt(mean_squared_error(y_test_density, y_pred_density))\n",
    "\n",
    "\n",
    "print(f\"R² Score: {r2:.4f}\")\n",
    "print(f\"Mean Absolute Error (MAE): {mae:.4f}\")\n",
    "print(f\"Root Mean Squared Error (RMSE): {rmse:.4f}\")\n",
    "\n",
    "# Save the model\n",
    "with open(\"density_model.pkl\", \"wb\") as model_file:\n",
    "    pickle.dump(gbr_density, model_file)\n",
    "\n",
    "print(\"Model saved as 'density_model.pkl'.\")\n"
   ]
  }
 ],
 "metadata": {
  "language_info": {
   "name": "python"
  }
 },
 "nbformat": 4,
 "nbformat_minor": 2
}
